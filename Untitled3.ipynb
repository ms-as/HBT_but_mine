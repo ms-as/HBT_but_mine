{
 "cells": [
  {
   "cell_type": "code",
   "execution_count": 29,
   "id": "c4df086b",
   "metadata": {},
   "outputs": [],
   "source": [
    "import numpy as np\n",
    "import pandas as pd\n",
    "import matplotlib.pyplot as plt\n",
    "\n",
    "import tqdm\n",
    "from tqdm import trange\n",
    "import torch\n",
    "import torch.nn.functional as F\n",
    "import torch.nn as nn\n",
    "from torch.utils.data import DataLoader\n",
    "from torch.autograd import Variable"
   ]
  },
  {
   "cell_type": "code",
   "execution_count": 30,
   "id": "08a2d019",
   "metadata": {},
   "outputs": [],
   "source": [
    "from sklearn.datasets import load_iris\n",
    "from sklearn.model_selection import train_test_split\n",
    "from sklearn.preprocessing import StandardScaler\n",
    "\n",
    "iris =load_iris()\n",
    "X =iris['data']\n",
    "y =iris['target']\n",
    "names= iris['target_names']\n",
    "feature_names = iris['feature_names']\n",
    "\n",
    "scaler = StandardScaler()\n",
    "X_scaled =scaler.fit_transform(X)\n",
    "\n",
    "X_train, X_test,y_train, y_test = train_test_split(\n",
    "    X_scaled, y, test_size=0.2, random_state=2)\n"
   ]
  },
  {
   "cell_type": "code",
   "execution_count": 31,
   "id": "ad674394",
   "metadata": {},
   "outputs": [
    {
     "data": {
      "text/plain": [
       "Model(\n",
       "  (layer1): Linear(in_features=4, out_features=10, bias=True)\n",
       "  (layer3): Linear(in_features=10, out_features=3, bias=True)\n",
       ")"
      ]
     },
     "execution_count": 31,
     "metadata": {},
     "output_type": "execute_result"
    }
   ],
   "source": [
    "class Model(nn.Module):\n",
    "    def __init__(self, input_dim):\n",
    "        super(Model, self).__init__()\n",
    "        self.layer1 = nn.Linear(input_dim, 10)\n",
    "        #self.layer2 = nn.Linear(10, 10)\n",
    "        self.layer3 = nn.Linear(10, 3)\n",
    "        \n",
    "    def forward(self, x):\n",
    "        x = F.relu(self.layer1(x))\n",
    "        #x = F.relu(self.layer2(x))\n",
    "        x = F.softmax(self.layer3(x), dim=1)\n",
    "        return x\n",
    "model= Model(X_train.shape[1])\n",
    "optimizer = torch.optim.Adam(model.parameters(), lr=0.001, weight_decay=0.0001)\n",
    "loss_fn = nn.CrossEntropyLoss()\n",
    "model"
   ]
  },
  {
   "cell_type": "code",
   "execution_count": 32,
   "id": "121811c5",
   "metadata": {},
   "outputs": [
    {
     "name": "stderr",
     "output_type": "stream",
     "text": [
      "100%|███████████████████████████████████████████████████| 1000/1000 [00:00<00:00, 1053.30it/s]\n"
     ]
    }
   ],
   "source": [
    "EPOCHS  = 1000\n",
    "X_train= Variable(torch.from_numpy(X_train)).float()\n",
    "y_train=Variable(torch.from_numpy(y_train)).long()\n",
    "X_test=Variable(torch.from_numpy(X_test)).float()\n",
    "y_test =Variable(torch.from_numpy(y_test)).long()\n",
    "loss_list= np.zeros((EPOCHS,))\n",
    "l_t = np.zeros((EPOCHS,))\n",
    "accuracy_list = np.zeros((EPOCHS,))\n",
    "for epoch in tqdm.trange(EPOCHS):\n",
    "    y_pred = model(X_train)\n",
    "    loss = loss_fn(y_pred, y_train)\n",
    "    loss_list[epoch] = loss.item()\n",
    "    optimizer.zero_grad()\n",
    "    loss.backward(retain_graph=True)\n",
    "    optimizer.step()\n",
    "    \n",
    "    with torch.no_grad():\n",
    "        y_pred = model(X_test)\n",
    "        loss_test = loss_fn(y_pred, y_test)\n",
    "        l_t[epoch] = loss_test\n",
    "        correct = (torch.argmax(y_pred, dim=1) == y_test).type(torch.FloatTensor)\n",
    "        accuracy_list[epoch] = correct.mean()\n",
    "    "
   ]
  },
  {
   "cell_type": "code",
   "execution_count": 35,
   "id": "ed46f5b6",
   "metadata": {},
   "outputs": [
    {
     "data": {
      "image/png": "[encoded data removed]",
      "text/plain": [
       "<Figure size 432x288 with 1 Axes>"
      ]
     },
     "metadata": {
      "needs_background": "light"
     },
     "output_type": "display_data"
    },
    {
     "data": {
      "image/png": "[encoded data removed]",
      "text/plain": [
       "<Figure size 432x288 with 1 Axes>"
      ]
     },
     "metadata": {
      "needs_background": "light"
     },
     "output_type": "display_data"
    }
   ],
   "source": [
    "torch.save(model.state_dict(), 'model.pt')\n",
    "\n",
    "\n",
    "plt.plot(loss_list, label=\"training loss\")\n",
    "plt.plot(l_t, label=\"test loss\")\n",
    "plt.xlabel('epochs')\n",
    "plt.title(\"Loss plot\")\n",
    "plt.legend()\n",
    "\n",
    "plt.show()\n",
    "\n",
    "plt.plot(accuracy_list, label=\"training accuracy\")\n",
    "plt.xlabel('epochs')\n",
    "plt.title(\"Acc plot\")\n",
    "plt.legend()\n",
    "\n",
    "plt.show()"
   ]
  },
  {
   "cell_type": "code",
   "execution_count": 34,
   "id": "4002e423",
   "metadata": {},
   "outputs": [],
   "source": [
    "def find_hessian(loss, model):\n",
    "    grad1 = torch.autograd.grad(loss, model.parameters(), create_graph=True) #create graph important for the gradients\n",
    "\n",
    "    grad1 = flatten_grad(grad1)\n",
    "    list_length = grad1.size(0)\n",
    "    hessian = torch.zeros(list_length, list_length)\n",
    "\n",
    "    for idx in trange(list_length, desc=\"Calculating hessian\"):\n",
    "            grad2rd = torch.autograd.grad(grad1[idx], model.parameters(), create_graph=True)\n",
    "            cnt = 0\n",
    "            for g in grad2rd:\n",
    "                g2 = g.contiguous().view(-1) if cnt == 0 else torch.cat([g2, g.contiguous().view(-1)])\n",
    "                cnt = 1\n",
    "            hessian[idx] = g2.detach().cpu()\n",
    "            del g2\n",
    "\n",
    "    H = hessian.cpu().data.numpy()\n",
    "    # calculate every element separately -> detach after calculating all 2ndgrad from this 1grad\n",
    "    return H\n",
    "\n",
    "\n",
    "def flatten_grad(grad):\n",
    "    tuple_to_list = []\n",
    "    for tensor in grad:\n",
    "        tuple_to_list.append(tensor.view(-1))\n",
    "    all_flattened = torch.cat(tuple_to_list)\n",
    "    return all_flattened\n",
    " "
   ]
  },
  {
   "cell_type": "code",
   "execution_count": 26,
   "id": "effc8b6f",
   "metadata": {},
   "outputs": [],
   "source": [
    "#hesjany "
   ]
  },
  {
   "cell_type": "code",
   "execution_count": 27,
   "id": "d3aacc99",
   "metadata": {},
   "outputs": [
    {
     "name": "stdout",
     "output_type": "stream",
     "text": [
      "tensor(0.5939, grad_fn=<NllLossBackward0>)\n"
     ]
    },
    {
     "name": "stderr",
     "output_type": "stream",
     "text": [
      "Calculating hessian: 100%|██████████████████████████████████| 83/83 [00:00<00:00, 1186.00it/s]"
     ]
    },
    {
     "name": "stdout",
     "output_type": "stream",
     "text": [
      "[-5.7018180e-03 -5.3025438e-03 -4.7265049e-03 -4.6778233e-03\n",
      " -4.6509006e-03 -4.5624687e-03 -4.5137489e-03 -3.2707339e-03\n",
      " -1.9274668e-03 -1.6876775e-03 -1.3299397e-03 -1.2791186e-03\n",
      " -7.2231732e-04 -4.5013477e-04 -3.4912684e-04 -2.9207589e-04\n",
      " -1.6827256e-04 -6.1212282e-05 -1.5268038e-08 -4.5841091e-09\n",
      " -1.5062925e-09 -8.5759932e-10 -4.7773396e-10  3.7747944e-11\n",
      "  8.0533963e-10  3.4752436e-09  4.7313655e-09  1.0818908e-08\n",
      "  1.4804868e-08  9.2108849e-08  1.0922607e-06  1.8671617e-06\n",
      "  3.0855183e-06  3.5432342e-06  5.4835109e-06  8.5776692e-06\n",
      "  1.0850402e-05  1.1715108e-05  2.3085939e-05  4.2325984e-05\n",
      "  5.0058781e-05  6.8368798e-05  7.5392636e-05  1.0561292e-04\n",
      "  1.2293426e-04  1.7621684e-04  1.8421012e-04  1.9283629e-04\n",
      "  2.8736514e-04  3.1339066e-04  3.2208124e-04  5.5782794e-04\n",
      "  6.4648670e-04  7.1888650e-04  8.8575768e-04  1.0722800e-03\n",
      "  1.2362547e-03  1.4924571e-03  1.8497504e-03  2.0873894e-03\n",
      "  2.2106797e-03  2.5428017e-03  2.8422703e-03  3.1444198e-03\n",
      "  3.3776010e-03  3.6664756e-03  4.0800106e-03  4.5839674e-03\n",
      "  4.6309410e-03  4.6792184e-03  5.0058314e-03  5.3794892e-03\n",
      "  5.6361039e-03  5.7215844e-03  6.4856517e-03  7.8161629e-03\n",
      "  1.0813565e-02  1.7360119e-02  2.4880143e-02  4.3736685e-02\n",
      "  9.2136122e-02  1.5466239e-01  7.6031137e-01]\n"
     ]
    },
    {
     "name": "stderr",
     "output_type": "stream",
     "text": [
      "\n"
     ]
    }
   ],
   "source": [
    "device = \"cpu\"\n",
    "eigenvectors, labels = X_train.to(device), y_train.to(device)\n",
    "\n",
    "outputs = model(eigenvectors)\n",
    "loss = loss_fn(outputs, labels)\n",
    "print(loss)\n",
    "    \n",
    "\n",
    "hessian = find_hessian(loss, model)\n",
    "np.save( 'h3ßian', hessian)\n",
    "heigenvalues = np.sort(np.linalg.eigvalsh(hessian))\n",
    "print(heigenvalues)"
   ]
  },
  {
   "cell_type": "code",
   "execution_count": 9,
   "id": "57e1ab26",
   "metadata": {},
   "outputs": [],
   "source": [
    "#i-f\n",
    "\n"
   ]
  },
  {
   "cell_type": "code",
   "execution_count": null,
   "id": "b53cd6d2",
   "metadata": {},
   "outputs": [],
   "source": []
  }
 ],
 "metadata": {
  "kernelspec": {
   "display_name": "Python 3 (ipykernel)",
   "language": "python",
   "name": "python3"
  },
  "language_info": {
   "codemirror_mode": {
    "name": "ipython",
    "version": 3
   },
   "file_extension": ".py",
   "mimetype": "text/x-python",
   "name": "python",
   "nbconvert_exporter": "python",
   "pygments_lexer": "ipython3",
   "version": "3.7.11"
  }
 },
 "nbformat": 4,
 "nbformat_minor": 5
}
